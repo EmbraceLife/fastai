{
 "cells": [
  {
   "cell_type": "markdown",
   "metadata": {
    "toc": true
   },
   "source": [
    "<h1>Table of Contents<span class=\"tocSkip\"></span></h1>\n",
    "<div class=\"toc\"><ul class=\"toc-item\"></ul></div>"
   ]
  },
  {
   "cell_type": "code",
   "execution_count": 1,
   "metadata": {
    "ExecuteTime": {
     "end_time": "2019-05-17T13:10:54.828670Z",
     "start_time": "2019-05-17T13:10:52.750215Z"
    },
    "inputHidden": false,
    "outputHidden": false
   },
   "outputs": [
    {
     "name": "stdout",
     "output_type": "stream",
     "text": [
      "7 torch.Size([1, 28, 28])\n"
     ]
    }
   ],
   "source": [
    "from fastai.vision import *\n",
    "import fastai.vision as fv\n",
    "path_data = untar_data(URLs.MNIST_TINY)\n",
    "path_data.ls()\n",
    "il = ImageList.from_folder(path_data, convert_mode='L')\n",
    "sd = il.split_by_folder('train', 'valid')\n",
    "ll = sd.label_from_folder()\n",
    "x, y = ll.train[0]\n",
    "x.show(y=y)\n",
    "x.show(title='test')\n",
    "x.show(y=y, title='test')\n",
    "print(y,x.shape)"
   ]
  },
  {
   "cell_type": "code",
   "execution_count": 2,
   "metadata": {
    "ExecuteTime": {
     "end_time": "2019-05-17T13:11:07.604732Z",
     "start_time": "2019-05-17T13:11:07.601136Z"
    },
    "inputHidden": false,
    "outputHidden": false
   },
   "outputs": [],
   "source": [
    "tfms = ([*rand_pad(padding=3, size=28, mode='zeros')], [])"
   ]
  },
  {
   "cell_type": "code",
   "execution_count": 5,
   "metadata": {
    "ExecuteTime": {
     "end_time": "2019-05-17T13:11:37.880397Z",
     "start_time": "2019-05-17T13:11:37.857108Z"
    }
   },
   "outputs": [],
   "source": [
    "doc(rand_pad)"
   ]
  },
  {
   "cell_type": "code",
   "execution_count": 6,
   "metadata": {
    "ExecuteTime": {
     "end_time": "2019-05-17T13:12:12.032333Z",
     "start_time": "2019-05-17T13:12:11.990731Z"
    }
   },
   "outputs": [],
   "source": [
    "rand_pad??\n",
    "Signature: rand_pad(padding: int, size: int, mode: str = 'reflection')\n",
    "Source:   \n",
    "def rand_pad(padding:int, size:int, mode:str='reflection'):\n",
    "    \"Fixed `mode` `padding` and random crop of `size`\"\n",
    "    return [pad(padding=padding,mode=mode),\n",
    "            crop(size=size, **rand_pos)]\n",
    "File:      ~/Documents/fastai-contrib/fastai/vision/transform.py\n",
    "Type:      function\n",
    "    "
   ]
  },
  {
   "cell_type": "code",
   "execution_count": 7,
   "metadata": {
    "ExecuteTime": {
     "end_time": "2019-05-17T13:12:12.186877Z",
     "start_time": "2019-05-17T13:12:12.167928Z"
    },
    "inputHidden": false,
    "outputHidden": false
   },
   "outputs": [],
   "source": [
    "ll = ll.transform(tfms)"
   ]
  },
  {
   "cell_type": "code",
   "execution_count": null,
   "metadata": {},
   "outputs": [],
   "source": []
  }
 ],
 "metadata": {
  "kernelspec": {
   "display_name": "Python 3",
   "language": "python",
   "name": "python3"
  },
  "language_info": {
   "codemirror_mode": {
    "name": "ipython",
    "version": 3
   },
   "file_extension": ".py",
   "mimetype": "text/x-python",
   "name": "python",
   "nbconvert_exporter": "python",
   "pygments_lexer": "ipython3",
   "version": "3.7.2"
  },
  "toc": {
   "base_numbering": 1,
   "nav_menu": {},
   "number_sections": true,
   "sideBar": true,
   "skip_h1_title": false,
   "title_cell": "Table of Contents",
   "title_sidebar": "Contents",
   "toc_cell": true,
   "toc_position": {},
   "toc_section_display": true,
   "toc_window_display": true
  },
  "varInspector": {
   "cols": {
    "lenName": 16,
    "lenType": 16,
    "lenVar": 40
   },
   "kernels_config": {
    "python": {
     "delete_cmd_postfix": "",
     "delete_cmd_prefix": "del ",
     "library": "var_list.py",
     "varRefreshCmd": "print(var_dic_list())"
    },
    "r": {
     "delete_cmd_postfix": ") ",
     "delete_cmd_prefix": "rm(",
     "library": "var_list.r",
     "varRefreshCmd": "cat(var_dic_list()) "
    }
   },
   "types_to_exclude": [
    "module",
    "function",
    "builtin_function_or_method",
    "instance",
    "_Feature"
   ],
   "window_display": false
  }
 },
 "nbformat": 4,
 "nbformat_minor": 1
}
